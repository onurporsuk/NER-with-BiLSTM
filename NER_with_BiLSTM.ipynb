{
 "cells": [
  {
   "cell_type": "markdown",
   "id": "608a572f-277a-4cf2-aec4-8149902e0f5a",
   "metadata": {},
   "source": [
    "# Named Entity Recognition Using Bi LSTM"
   ]
  },
  {
   "cell_type": "markdown",
   "id": "448bf05b-f27b-41a0-a72f-75013507e439",
   "metadata": {
    "execution": {
     "iopub.execute_input": "2023-05-06T11:18:50.134194Z",
     "iopub.status.busy": "2023-05-06T11:18:50.134194Z",
     "iopub.status.idle": "2023-05-06T11:18:50.141194Z",
     "shell.execute_reply": "2023-05-06T11:18:50.140196Z",
     "shell.execute_reply.started": "2023-05-06T11:18:50.134194Z"
    }
   },
   "source": [
    "## Importing Libraries"
   ]
  },
  {
   "cell_type": "code",
   "execution_count": 1,
   "id": "5704bb1f-9d26-4b85-9e49-8190dc4447c0",
   "metadata": {
    "execution": {
     "iopub.execute_input": "2023-05-21T14:25:00.372465Z",
     "iopub.status.busy": "2023-05-21T14:25:00.372465Z",
     "iopub.status.idle": "2023-05-21T14:25:01.396465Z",
     "shell.execute_reply": "2023-05-21T14:25:01.395468Z",
     "shell.execute_reply.started": "2023-05-21T14:25:00.372465Z"
    },
    "tags": []
   },
   "outputs": [
    {
     "ename": "ImportError",
     "evalue": "cannot import name 'LSTM' from 'keras.layers' (unknown location)",
     "output_type": "error",
     "traceback": [
      "\u001b[1;31m---------------------------------------------------------------------------\u001b[0m",
      "\u001b[1;31mImportError\u001b[0m                               Traceback (most recent call last)",
      "Cell \u001b[1;32mIn[1], line 1\u001b[0m\n\u001b[1;32m----> 1\u001b[0m \u001b[38;5;28;01mfrom\u001b[39;00m \u001b[38;5;21;01mkeras\u001b[39;00m\u001b[38;5;21;01m.\u001b[39;00m\u001b[38;5;21;01mlayers\u001b[39;00m \u001b[38;5;28;01mimport\u001b[39;00m LSTM, Embedding, Dense, TimeDistributed, Dropout, Bidirectional, Activation, BatchNormalization\n\u001b[0;32m      2\u001b[0m \u001b[38;5;28;01mfrom\u001b[39;00m \u001b[38;5;21;01mkeras_preprocessing\u001b[39;00m\u001b[38;5;21;01m.\u001b[39;00m\u001b[38;5;21;01msequence\u001b[39;00m \u001b[38;5;28;01mimport\u001b[39;00m pad_sequences\n\u001b[0;32m      3\u001b[0m \u001b[38;5;28;01mfrom\u001b[39;00m \u001b[38;5;21;01mkeras\u001b[39;00m\u001b[38;5;21;01m.\u001b[39;00m\u001b[38;5;21;01mmodels\u001b[39;00m \u001b[38;5;28;01mimport\u001b[39;00m Sequential, load_model\n",
      "\u001b[1;31mImportError\u001b[0m: cannot import name 'LSTM' from 'keras.layers' (unknown location)"
     ]
    }
   ],
   "source": [
    "from keras.layers import LSTM, Embedding, Dense, TimeDistributed, Dropout, Bidirectional, Activation, BatchNormalization\n",
    "from keras_preprocessing.sequence import pad_sequences\n",
    "from keras.models import Sequential, load_model\n",
    "from keras.optimizers import SGD, Adam, Ftrl\n",
    "from keras.callbacks import ModelCheckpoint\n",
    "from keras.utils import to_categorical\n",
    "from tensorflow.keras import metrics\n",
    "from matplotlib import pyplot as plt\n",
    "import numpy as np\n",
    "import pickle\n",
    "import time"
   ]
  },
  {
   "cell_type": "markdown",
   "id": "e47a04a2-ae82-4345-91bb-890c8636d947",
   "metadata": {},
   "source": [
    "## Preparing Dataset"
   ]
  },
  {
   "cell_type": "markdown",
   "id": "4a595c47-509a-4cf0-a5b1-fdae864c002f",
   "metadata": {},
   "source": [
    "### Reading From File"
   ]
  },
  {
   "cell_type": "code",
   "execution_count": 2,
   "id": "3cd4ec78-028e-48ca-8d82-d44678a25db7",
   "metadata": {
    "execution": {
     "iopub.execute_input": "2023-05-21T07:08:52.363062Z",
     "iopub.status.busy": "2023-05-21T07:08:52.362066Z",
     "iopub.status.idle": "2023-05-21T07:08:52.373058Z",
     "shell.execute_reply": "2023-05-21T07:08:52.373058Z",
     "shell.execute_reply.started": "2023-05-21T07:08:52.363062Z"
    },
    "tags": []
   },
   "outputs": [],
   "source": [
    "# Loading data with quick preprocessesing steps\n",
    "\n",
    "def read_file(file_name):\n",
    "\n",
    "    words = []\n",
    "    parser = []\n",
    "    ner = []    \n",
    "    tokens = []\n",
    "    pos_tags = []\n",
    "    ner_tags = []\n",
    "    \n",
    "    # Some unnecessary characters to remove from input\n",
    "    chars = \"\"\"(),.<>?$#@\"!%&*:;'~`^=-_+\\|{}[]/\"\"\"\n",
    "    removed = [i for i in chars]\n",
    "    \n",
    "    with open(file_name, encoding='utf-8') as f:\n",
    "        \n",
    "        for line in f:\n",
    "            \n",
    "            # Removing any white spaces\n",
    "            line = line.rstrip()\n",
    "            \n",
    "            if line:\n",
    "                word, pos_, parser_, ner_ = line.split()\n",
    "                \n",
    "                # Checking if special characters occur in input\n",
    "                if word != \"-DOCSTART-\" and parser_ not in removed and ner_ not in removed:\n",
    "                    words.append(word)\n",
    "                    parser.append(parser_)\n",
    "                    ner.append(ner_)\n",
    "            else:\n",
    "                if words != [] and ner != [] and parser != []:\n",
    "                    tokens.append(words)\n",
    "                    pos_tags.append(parser)\n",
    "                    ner_tags.append(ner)\n",
    "                    words, parser, ner = [], [], []\n",
    "\n",
    "    return tokens, pos_tags, ner_tags"
   ]
  },
  {
   "cell_type": "markdown",
   "id": "0716d93c-1a31-4130-aa76-20f075489322",
   "metadata": {},
   "source": [
    "### Converting Dataset"
   ]
  },
  {
   "cell_type": "code",
   "execution_count": 3,
   "id": "c113f2e9-adda-4abc-aefd-6e437aabbe75",
   "metadata": {
    "execution": {
     "iopub.execute_input": "2023-05-21T07:08:52.377061Z",
     "iopub.status.busy": "2023-05-21T07:08:52.376060Z",
     "iopub.status.idle": "2023-05-21T07:08:52.408063Z",
     "shell.execute_reply": "2023-05-21T07:08:52.405066Z",
     "shell.execute_reply.started": "2023-05-21T07:08:52.377061Z"
    },
    "tags": []
   },
   "outputs": [],
   "source": [
    "# Converting data into better format for training\n",
    "\n",
    "def convert_data(MAX_LEN, x_train, y_train, all_words, all_tags):\n",
    "    \n",
    "    # Finds index of words\n",
    "    \n",
    "    temp_all_words = {value: idx + 2 for idx, value in enumerate(all_words)}\n",
    "    temp_all_words[\"UNK\"] = 1 \n",
    "    temp_all_words[\"PAD\"] = 0\n",
    "    \n",
    "    # Finds index of tags\n",
    "\n",
    "    temp_all_tags = {value: idx + 1 for idx, value in enumerate(all_tags)}\n",
    "    temp_all_tags[\"PAD\"] = 0 \n",
    "    \n",
    "    X = [[temp_all_words[x] for x in value] for value in x_train] \n",
    "    y = [[temp_all_tags[x] for x in value] for value in y_train]\n",
    "\n",
    "    # Padding X and y train sequences\n",
    "    \n",
    "    X_padded = pad_sequences(maxlen=MAX_LEN, sequences=X, padding=\"post\", value=0)\n",
    "    y_padded = pad_sequences(maxlen=MAX_LEN, sequences=y, padding=\"post\", value=0)\n",
    "    \n",
    "    return X_padded, np.array([to_categorical(idx, num_classes=len(all_tags) + 1) for idx in y_padded])"
   ]
  },
  {
   "cell_type": "markdown",
   "id": "2e130455-0a95-485a-a2a4-a1948e79a205",
   "metadata": {},
   "source": [
    "### Loading Dataset"
   ]
  },
  {
   "cell_type": "code",
   "execution_count": 4,
   "id": "baef5744-1c76-4914-9210-6f9d140eaf6c",
   "metadata": {
    "execution": {
     "iopub.execute_input": "2023-05-21T07:08:52.417063Z",
     "iopub.status.busy": "2023-05-21T07:08:52.416061Z",
     "iopub.status.idle": "2023-05-21T07:08:52.438060Z",
     "shell.execute_reply": "2023-05-21T07:08:52.437061Z",
     "shell.execute_reply.started": "2023-05-21T07:08:52.417063Z"
    },
    "tags": []
   },
   "outputs": [],
   "source": [
    "# Loading dataset using the previously defined auxiliary functions \n",
    "\n",
    "def load_dataset():\n",
    "    \n",
    "    try:\n",
    "        X_train, _, y_train = read_file(\"Data/train.file\")\n",
    "        X_valid, _, y_valid = read_file(\"Data/valid.file\")\n",
    "        X_test, _, y_test = read_file(\"Data/test.file\")\n",
    "\n",
    "    except:\n",
    "        print(\"An error occured while loading dataset...\")\n",
    "\n",
    "    # Extracting unique words to find max length, number of words and number of tags\n",
    "\n",
    "    all_words, all_tags = [], []\n",
    "\n",
    "    for idx in X_train + X_valid + X_test: \n",
    "        for x in idx: \n",
    "            all_words.append(x)\n",
    "\n",
    "    for idx in y_train: \n",
    "        for x in idx:\n",
    "            all_tags.append(x)\n",
    "\n",
    "    all_words = list(set(all_words))\n",
    "    all_tags = list(set(all_tags))\n",
    "\n",
    "    MAX_LEN = max([len(x) for x in X_train + X_valid + X_test])\n",
    "    NUM_WORDS = len(all_words) + 2\n",
    "    NUM_TAGS = len(all_tags) + 1\n",
    "\n",
    "    # Converting dataset into better format for training\n",
    "\n",
    "    X_train, y_train = convert_data(MAX_LEN, X_train, y_train, all_words, all_tags)\n",
    "    X_valid, y_valid = convert_data(MAX_LEN, X_valid, y_valid, all_words, all_tags)\n",
    "    X_test, y_test = convert_data(MAX_LEN, X_test, y_test, all_words, all_tags)\n",
    "\n",
    "    print(\"\\nCorpus\\n\")\n",
    "    print(\"Training set size      :\", X_train.shape)\n",
    "    print(\"Validation set size    :\", X_valid.shape)\n",
    "    print(\"Test set size          :\", X_test.shape)\n",
    "    print(\"\\nNumber of unique words :\", NUM_WORDS)\n",
    "    print(\"Max length of input    :\", MAX_LEN)\n",
    "    print(\"Number of tags         :\", NUM_TAGS)\n",
    "    \n",
    "    return all_words, all_tags, X_train, X_valid, X_test, y_train, y_valid, y_test, NUM_WORDS, MAX_LEN, NUM_TAGS"
   ]
  },
  {
   "cell_type": "markdown",
   "id": "65cc7007-c30e-4adc-8e8c-783c166f6d73",
   "metadata": {},
   "source": [
    "## Creating Model Object"
   ]
  },
  {
   "cell_type": "code",
   "execution_count": 5,
   "id": "6385d02f-73eb-4d13-8310-de6656f8b502",
   "metadata": {
    "execution": {
     "iopub.execute_input": "2023-05-21T07:08:52.441063Z",
     "iopub.status.busy": "2023-05-21T07:08:52.441063Z",
     "iopub.status.idle": "2023-05-21T07:08:52.474061Z",
     "shell.execute_reply": "2023-05-21T07:08:52.468073Z",
     "shell.execute_reply.started": "2023-05-21T07:08:52.441063Z"
    },
    "tags": []
   },
   "outputs": [],
   "source": [
    "# Creating model object with specified hyperparameters\n",
    "\n",
    "def bi_lstm(NUM_WORDS, MAX_LEN, NUM_TAGS, learning_rate, weight_decay, dropout_rate):\n",
    "    \n",
    "    model = Sequential([\n",
    "        \n",
    "        # Embedding layer\n",
    "        Embedding(input_dim=NUM_WORDS, \n",
    "                  output_dim=MAX_LEN, \n",
    "                  input_length=MAX_LEN),\n",
    "        \n",
    "        BatchNormalization(),\n",
    "        Dropout(dropout_rate),\n",
    "        \n",
    "        # Bi LSTM with recurrent dropout \n",
    "        Bidirectional(LSTM(units=MAX_LEN,\n",
    "                           return_sequences=True,\n",
    "                           recurrent_dropout=0.1)),\n",
    "        \n",
    "        # Time distributed layer to run on each token of the sequence (last dense layer)\n",
    "        TimeDistributed(Dense(units=NUM_TAGS)),\n",
    "    \n",
    "        Activation('softmax')\n",
    "\n",
    "    ])\n",
    "    \n",
    "    print(\"\\n\\nThe architecture of the network\\n\")\n",
    "    model.summary()\n",
    "\n",
    "    model.compile(optimizer=Adam(learning_rate=learning_rate, decay=weight_decay), \n",
    "                  loss='categorical_crossentropy', \n",
    "                  metrics=['accuracy', metrics.Precision, metrics.Recall, metrics.])\n",
    "    \n",
    "    return model"
   ]
  },
  {
   "cell_type": "markdown",
   "id": "99e2a20c-c0bb-4f87-8ce2-667de1bce6ec",
   "metadata": {},
   "source": [
    "## Plotting Loss and Acc"
   ]
  },
  {
   "cell_type": "code",
   "execution_count": 6,
   "id": "cc830bd7-98e3-450d-b9fc-1ec1be3383f9",
   "metadata": {
    "execution": {
     "iopub.execute_input": "2023-05-21T07:08:52.477061Z",
     "iopub.status.busy": "2023-05-21T07:08:52.476063Z",
     "iopub.status.idle": "2023-05-21T07:08:52.499066Z",
     "shell.execute_reply": "2023-05-21T07:08:52.498060Z",
     "shell.execute_reply.started": "2023-05-21T07:08:52.477061Z"
    },
    "tags": []
   },
   "outputs": [],
   "source": [
    "# Plotting accuracy and loss after training\n",
    "\n",
    "def plot_acc_loss(history):\n",
    "\n",
    "    # Plotting the training and validation loss\n",
    "\n",
    "    plt.plot(history['loss'], label='train', marker = 'o')\n",
    "    plt.plot(history['val_loss'], label='val', marker = 'v')\n",
    "    plt.title('Training and Validation Loss')\n",
    "    plt.xlabel('Epoch')\n",
    "    plt.ylabel('Loss')\n",
    "    plt.legend()\n",
    "    plt.xticks(np.arange(len(history['accuracy'])), np.arange(1, len(history['accuracy'])+1))\n",
    "    plt.show()\n",
    "\n",
    "    # Plotting the training and validation accuracy\n",
    "\n",
    "    plt.plot(history['accuracy'], label='train', marker = 'o')\n",
    "    plt.plot(history['val_accuracy'], label='val', marker = 'v')\n",
    "    plt.title('Training and Validation Accuracy')\n",
    "    plt.xlabel('Epoch')\n",
    "    plt.ylabel('Accuracy')\n",
    "    plt.legend()\n",
    "    plt.xticks(np.arange(len(history['accuracy'])), np.arange(1, len(history['accuracy'])+1))\n",
    "    plt.show()\n",
    "\n",
    "    return"
   ]
  },
  {
   "cell_type": "markdown",
   "id": "a4ade367-f2b3-408c-81b7-794a03146e57",
   "metadata": {},
   "source": [
    "## Evaluation on Test Data"
   ]
  },
  {
   "cell_type": "code",
   "execution_count": 48,
   "id": "13daec60-a510-493f-807e-0e20a1556a19",
   "metadata": {
    "execution": {
     "iopub.execute_input": "2023-05-21T07:54:33.482978Z",
     "iopub.status.busy": "2023-05-21T07:54:33.481978Z",
     "iopub.status.idle": "2023-05-21T07:54:33.495976Z",
     "shell.execute_reply": "2023-05-21T07:54:33.494977Z",
     "shell.execute_reply.started": "2023-05-21T07:54:33.482978Z"
    },
    "tags": []
   },
   "outputs": [],
   "source": [
    "# Evaluating model on test data\n",
    "\n",
    "def evaluate(X_test, y_test, all_tags):\n",
    "    \n",
    "    model = load_model(\"checkpoints/BiLSTM_NER.h5\")\n",
    "    \n",
    "    test_evaluation = model.evaluate(X_test, y_test)\n",
    "\n",
    "    print(\"\\nTest loss     : {:5.4f}\".format(test_evaluation[0]))\n",
    "    print(\"Test accuracy : {:5.2f}%\".format(100 * test_evaluation[1]))\n",
    "    \n",
    "    return"
   ]
  },
  {
   "cell_type": "markdown",
   "id": "6f7817d2-eeb3-49bf-8c4e-9b001cb73ec3",
   "metadata": {},
   "source": [
    "## Main Function "
   ]
  },
  {
   "cell_type": "code",
   "execution_count": null,
   "id": "04bc049d-0613-4ebd-8a3a-723d990f6009",
   "metadata": {
    "tags": []
   },
   "outputs": [],
   "source": [
    "def main():\n",
    "    \n",
    "    print(\"\\n       A Bidirectional LSTM for Named Entity Recognition       \\n\")\n",
    "\n",
    "\n",
    "    # Loading dataset\n",
    "\n",
    "    all_words, all_tags, X_train, X_valid, X_test, y_train, y_valid, y_test, NUM_WORDS, MAX_LEN, NUM_TAGS = load_dataset()\n",
    "\n",
    "\n",
    "\n",
    "    # Prompting hyperparameters\n",
    "\n",
    "    print(\"\\nHyperparameters\\n\")\n",
    "    epochs = int(input(\"Enter number of epochs :\"))\n",
    "    batch_size = int(input(\"Enter batch size       :\"))\n",
    "    learning_rate = float(input(\"Enter learning rate    :\"))\n",
    "    weight_decay = float(input(\"Enter weight decay     :\"))\n",
    "    dropout_rate = float(input(\"Enter dropout rate     :\"))\n",
    "\n",
    "    # Creating model object\n",
    "    model = bi_lstm(NUM_WORDS, MAX_LEN, NUM_TAGS, learning_rate, weight_decay, dropout_rate)\n",
    "\n",
    "    # Creaing checkpoint callback to save trained epochs\n",
    "    checkpoint = ModelCheckpoint('checkpoints/BiLSTM_NER.h5', monitor='val_loss', verbose=1, save_best_only=True, mode='min')\n",
    "\n",
    "\n",
    "\n",
    "    print(\"\\n\\n******* Training started *******\\n\")\n",
    "\n",
    "    start_time = time.time()\n",
    "\n",
    "    history = model.fit(X_train, \n",
    "                     y_train, \n",
    "                     epochs=epochs, \n",
    "                     batch_size=batch_size, \n",
    "                     validation_data=(X_valid, y_valid),\n",
    "                     callbacks=[checkpoint],\n",
    "                     verbose=1\n",
    "                    )\n",
    "\n",
    "    end_time = time.time()\n",
    "    minutes, seconds = divmod(end_time - start_time, 60)\n",
    "    print(f\"\\nINFO: Training completed in {round(minutes)} mins {round(seconds)} secs.\")\n",
    "\n",
    "    print(\"\\n******* Training finished *******\")\n",
    "\n",
    "\n",
    "\n",
    "    # Printing loss and accuracy\n",
    "\n",
    "    # Saving model history object\n",
    "    with open('checkpoints/history.pkl', 'wb') as f:\n",
    "        pickle.dump(history.history, f)\n",
    "\n",
    "    # Loading history object from the file\n",
    "    with open('checkpoints/history.pkl', 'rb') as f:\n",
    "        history = pickle.load(f)\n",
    "\n",
    "    plot_acc_loss(history)\n",
    "\n",
    "\n",
    "\n",
    "    # Evaluating the model on test data\n",
    "\n",
    "    print(\"\\n******* Evaluation started *******\\n\")\n",
    "\n",
    "    evaluate(X_test, y_test, all_tags)\n",
    "\n",
    "    print(\"\\n******* Evaluation finished *******\")\n",
    "    \n",
    "    \n",
    "    return"
   ]
  },
  {
   "cell_type": "code",
   "execution_count": 63,
   "id": "370dfe0b-26c6-4f28-a687-b10aa2915972",
   "metadata": {
    "execution": {
     "iopub.execute_input": "2023-05-21T08:08:05.530777Z",
     "iopub.status.busy": "2023-05-21T08:08:05.529777Z",
     "iopub.status.idle": "2023-05-21T08:08:15.055774Z",
     "shell.execute_reply": "2023-05-21T08:08:15.054773Z",
     "shell.execute_reply.started": "2023-05-21T08:08:05.530777Z"
    },
    "tags": []
   },
   "outputs": [],
   "source": [
    "results = model.evaluate(X_test, y_test, verbose=0)"
   ]
  },
  {
   "cell_type": "markdown",
   "id": "7f39ad56-cefc-4d7e-9569-332cdca46162",
   "metadata": {},
   "source": [
    "## Execution"
   ]
  },
  {
   "cell_type": "code",
   "execution_count": 11,
   "id": "a8ce9ecb-7fbf-4e41-898a-61e89266989c",
   "metadata": {
    "collapsed": true,
    "execution": {
     "iopub.execute_input": "2023-05-20T11:27:57.613061Z",
     "iopub.status.busy": "2023-05-20T11:27:57.613061Z",
     "iopub.status.idle": "2023-05-20T11:48:21.149683Z",
     "shell.execute_reply": "2023-05-20T11:48:21.148687Z",
     "shell.execute_reply.started": "2023-05-20T11:27:57.613061Z"
    },
    "jupyter": {
     "outputs_hidden": true
    },
    "tags": []
   },
   "outputs": [
    {
     "name": "stdout",
     "output_type": "stream",
     "text": [
      "\n",
      "       A Bidirectional LSTM for Named Entity Recognition       \n",
      "\n",
      "\n",
      "Corpus\n",
      "\n",
      "Training set size      : (14041, 124)\n",
      "Validation set size    : (3250, 124)\n",
      "Test set size          : (3453, 124)\n",
      "\n",
      "Number of unique words : 30291\n",
      "Max length of input    : 124\n",
      "Number of tags         : 9\n",
      "\n",
      "Hyperparameters\n",
      "\n"
     ]
    },
    {
     "name": "stdin",
     "output_type": "stream",
     "text": [
      "Enter number of epochs : 6\n",
      "Enter batch size       : 128\n",
      "Enter learning rate    : 0.001\n",
      "Enter weight decay     : 0.004\n",
      "Enter dropout rate     : 0.5\n"
     ]
    },
    {
     "name": "stdout",
     "output_type": "stream",
     "text": [
      "\n",
      "\n",
      "The architecture of the network\n",
      "\n",
      "Model: \"sequential_1\"\n",
      "_________________________________________________________________\n",
      " Layer (type)                Output Shape              Param #   \n",
      "=================================================================\n",
      " embedding_1 (Embedding)     (None, 124, 124)          3756084   \n",
      "                                                                 \n",
      " batch_normalization_1 (Batc  (None, 124, 124)         496       \n",
      " hNormalization)                                                 \n",
      "                                                                 \n",
      " dropout_1 (Dropout)         (None, 124, 124)          0         \n",
      "                                                                 \n",
      " bidirectional_1 (Bidirectio  (None, 124, 248)         247008    \n",
      " nal)                                                            \n",
      "                                                                 \n",
      " time_distributed_1 (TimeDis  (None, 124, 9)           2241      \n",
      " tributed)                                                       \n",
      "                                                                 \n",
      " activation_1 (Activation)   (None, 124, 9)            0         \n",
      "                                                                 \n",
      "=================================================================\n",
      "Total params: 4,005,829\n",
      "Trainable params: 4,005,581\n",
      "Non-trainable params: 248\n",
      "_________________________________________________________________\n",
      "\n",
      "\n",
      "******* Training started *******\n",
      "\n",
      "Epoch 1/6\n",
      "110/110 [==============================] - ETA: 0s - loss: 0.1356 - accuracy: 0.9779\n",
      "Epoch 1: val_loss improved from inf to 0.52650, saving model to checkpoints\\BiLSTM_NER.h5\n",
      "110/110 [==============================] - 188s 2s/step - loss: 0.1356 - accuracy: 0.9779 - val_loss: 0.5265 - val_accuracy: 0.8726\n",
      "Epoch 2/6\n",
      "110/110 [==============================] - ETA: 0s - loss: 0.0285 - accuracy: 0.9916\n",
      "Epoch 2: val_loss improved from 0.52650 to 0.34171, saving model to checkpoints\\BiLSTM_NER.h5\n",
      "110/110 [==============================] - 203s 2s/step - loss: 0.0285 - accuracy: 0.9916 - val_loss: 0.3417 - val_accuracy: 0.8728\n",
      "Epoch 3/6\n",
      "110/110 [==============================] - ETA: 0s - loss: 0.0145 - accuracy: 0.9961\n",
      "Epoch 3: val_loss improved from 0.34171 to 0.13804, saving model to checkpoints\\BiLSTM_NER.h5\n",
      "110/110 [==============================] - 205s 2s/step - loss: 0.0145 - accuracy: 0.9961 - val_loss: 0.1380 - val_accuracy: 0.9569\n",
      "Epoch 4/6\n",
      "110/110 [==============================] - ETA: 0s - loss: 0.0095 - accuracy: 0.9975\n",
      "Epoch 4: val_loss improved from 0.13804 to 0.04628, saving model to checkpoints\\BiLSTM_NER.h5\n",
      "110/110 [==============================] - 190s 2s/step - loss: 0.0095 - accuracy: 0.9975 - val_loss: 0.0463 - val_accuracy: 0.9894\n",
      "Epoch 5/6\n",
      "110/110 [==============================] - ETA: 0s - loss: 0.0071 - accuracy: 0.9981\n",
      "Epoch 5: val_loss improved from 0.04628 to 0.02066, saving model to checkpoints\\BiLSTM_NER.h5\n",
      "110/110 [==============================] - 205s 2s/step - loss: 0.0071 - accuracy: 0.9981 - val_loss: 0.0207 - val_accuracy: 0.9940\n",
      "Epoch 6/6\n",
      "110/110 [==============================] - ETA: 0s - loss: 0.0058 - accuracy: 0.9985\n",
      "Epoch 6: val_loss improved from 0.02066 to 0.01744, saving model to checkpoints\\BiLSTM_NER.h5\n",
      "110/110 [==============================] - 182s 2s/step - loss: 0.0058 - accuracy: 0.9985 - val_loss: 0.0174 - val_accuracy: 0.9949\n",
      "\n",
      "INFO: Training completed in 19 mins 34 secs.\n",
      "\n",
      "******* Training finished *******\n"
     ]
    },
    {
     "data": {
      "image/png": "[encoded data removed]",
      "text/plain": [
       "<Figure size 640x480 with 1 Axes>"
      ]
     },
     "metadata": {},
     "output_type": "display_data"
    },
    {
     "data": {
      "image/png": "[encoded data removed]",
      "text/plain": [
       "<Figure size 640x480 with 1 Axes>"
      ]
     },
     "metadata": {},
     "output_type": "display_data"
    },
    {
     "name": "stdout",
     "output_type": "stream",
     "text": [
      "\n",
      "******* Evaluation started *******\n",
      "\n",
      "108/108 [==============================] - 26s 234ms/step - loss: 0.0220 - accuracy: 0.9933\n",
      "\n",
      "Test loss     : 0.0220\n",
      "Test accuracy : 99.33%\n",
      "\n",
      "******* Evaluation finished *******\n",
      "\n",
      "\n",
      "INFO: Whole program executed for 20 mins 24 secs.\n"
     ]
    }
   ],
   "source": [
    "if __name__ == \"__main__\":\n",
    "    \n",
    "    start_time = time.time()\n",
    "    \n",
    "    main()\n",
    "    \n",
    "    end_time = time.time()\n",
    "\n",
    "    minutes, seconds = divmod(end_time - start_time, 60)\n",
    "    print(\"\\n\\nINFO: Whole program executed for\", round(minutes), \"mins\", round(seconds), \"secs.\")"
   ]
  },
  {
   "cell_type": "code",
   "execution_count": null,
   "id": "f867061c-d50e-45d6-924a-6d20ecc9c4d1",
   "metadata": {},
   "outputs": [],
   "source": []
  },
  {
   "cell_type": "code",
   "execution_count": null,
   "id": "79c22899-b2f7-48e3-bbca-8ab395970d10",
   "metadata": {},
   "outputs": [],
   "source": []
  },
  {
   "cell_type": "code",
   "execution_count": null,
   "id": "50df92c1-8a60-4ce7-ab5a-5f6f61aaaa1a",
   "metadata": {},
   "outputs": [],
   "source": []
  },
  {
   "cell_type": "code",
   "execution_count": null,
   "id": "390265ed-8929-43a4-b376-ac8db639c317",
   "metadata": {},
   "outputs": [],
   "source": []
  },
  {
   "cell_type": "code",
   "execution_count": null,
   "id": "efc75263-be47-42fd-aa9f-8498c9e1f1dd",
   "metadata": {},
   "outputs": [],
   "source": []
  },
  {
   "cell_type": "code",
   "execution_count": null,
   "id": "a2b421e6-a490-463e-98c3-88df6fe2741f",
   "metadata": {},
   "outputs": [],
   "source": []
  },
  {
   "cell_type": "code",
   "execution_count": null,
   "id": "a3aa7546-4517-4704-a50e-1d6549c0830c",
   "metadata": {},
   "outputs": [],
   "source": []
  },
  {
   "cell_type": "code",
   "execution_count": null,
   "id": "3a3ef428-dc22-4c6c-bf1e-a08362567c3e",
   "metadata": {},
   "outputs": [],
   "source": []
  },
  {
   "cell_type": "code",
   "execution_count": null,
   "id": "6b5b91c6-f58a-4251-af82-386e906e32ff",
   "metadata": {},
   "outputs": [],
   "source": []
  },
  {
   "cell_type": "markdown",
   "id": "9ed9999c-d5aa-47b2-ba19-807b21855ae6",
   "metadata": {
    "jp-MarkdownHeadingCollapsed": true,
    "tags": []
   },
   "source": [
    "## Archive"
   ]
  },
  {
   "cell_type": "code",
   "execution_count": null,
   "id": "8b91ce76-1e48-43b2-a799-27d84a2bb92d",
   "metadata": {},
   "outputs": [],
   "source": [
    "# epochs = 6\n",
    "# batch_size = 128\n",
    "# learning_rate = 0.001\n",
    "# weight_decay = 0.004\n",
    "# dropout_rate = 0.5"
   ]
  },
  {
   "cell_type": "code",
   "execution_count": null,
   "id": "a62bca05-16d1-431e-8d17-ffeb34f16009",
   "metadata": {},
   "outputs": [],
   "source": []
  },
  {
   "cell_type": "code",
   "execution_count": null,
   "id": "912220ea-4a50-4433-a09b-1b82b21f5789",
   "metadata": {},
   "outputs": [],
   "source": []
  },
  {
   "cell_type": "code",
   "execution_count": null,
   "id": "f567b55e-8273-4655-a19e-742b5ecc63d2",
   "metadata": {},
   "outputs": [],
   "source": []
  },
  {
   "cell_type": "code",
   "execution_count": 9,
   "id": "ef561435-0d26-49c8-a91c-f5239720da8f",
   "metadata": {
    "execution": {
     "iopub.execute_input": "2023-05-07T18:27:41.583548Z",
     "iopub.status.busy": "2023-05-07T18:27:41.582549Z",
     "iopub.status.idle": "2023-05-07T18:27:41.611549Z",
     "shell.execute_reply": "2023-05-07T18:27:41.609562Z",
     "shell.execute_reply.started": "2023-05-07T18:27:41.583548Z"
    }
   },
   "outputs": [],
   "source": [
    "# X_train, _, y_train = read_file(\"Data/train.file\")\n",
    "# X_valid, _, y_valid = read_file(\"Data/valid.file\")\n",
    "# X_test, _, y_test = read_file(\"Data/test.file\")"
   ]
  },
  {
   "cell_type": "code",
   "execution_count": 10,
   "id": "93749e82-80a5-4d84-b0e0-4ebf795662ff",
   "metadata": {
    "execution": {
     "iopub.execute_input": "2023-05-07T18:27:41.622557Z",
     "iopub.status.busy": "2023-05-07T18:27:41.617550Z",
     "iopub.status.idle": "2023-05-07T18:27:41.655548Z",
     "shell.execute_reply": "2023-05-07T18:27:41.653549Z",
     "shell.execute_reply.started": "2023-05-07T18:27:41.622557Z"
    },
    "tags": []
   },
   "outputs": [],
   "source": [
    "# y_train[:4]"
   ]
  },
  {
   "cell_type": "code",
   "execution_count": 11,
   "id": "07f8a8b5-62e6-4aa8-ac45-5e6c9d46f264",
   "metadata": {
    "execution": {
     "iopub.execute_input": "2023-05-07T18:27:41.661547Z",
     "iopub.status.busy": "2023-05-07T18:27:41.658547Z",
     "iopub.status.idle": "2023-05-07T18:27:41.675550Z",
     "shell.execute_reply": "2023-05-07T18:27:41.667549Z",
     "shell.execute_reply.started": "2023-05-07T18:27:41.660547Z"
    },
    "tags": []
   },
   "outputs": [],
   "source": [
    "# import pandas as pd\n",
    "\n",
    "# X_train_genia = pd.read_csv(\"Data/GENIA/train_data.csv\")"
   ]
  },
  {
   "cell_type": "code",
   "execution_count": 12,
   "id": "089cbf80-2eaf-4db8-bd03-e201b2ce905f",
   "metadata": {
    "execution": {
     "iopub.execute_input": "2023-05-07T18:27:41.690549Z",
     "iopub.status.busy": "2023-05-07T18:27:41.682550Z",
     "iopub.status.idle": "2023-05-07T18:27:41.716548Z",
     "shell.execute_reply": "2023-05-07T18:27:41.713550Z",
     "shell.execute_reply.started": "2023-05-07T18:27:41.690549Z"
    },
    "tags": []
   },
   "outputs": [],
   "source": [
    "# words = []\n",
    "# parser = []\n",
    "# ner = []    \n",
    "# tokens = []\n",
    "# pos_tags = []\n",
    "# ner_tags = []\n",
    "\n",
    "# # Some unnecessary characters to remove from input\n",
    "# chars = \"\"\"(),.<>?$#@\"!%&*:;'~`^=-_+\\|{}[]/\"\"\"\n",
    "# removed = [i for i in chars]\n",
    "\n",
    "# with open(\"Data/GENIA/train_data.csv\", encoding='utf-8') as f:\n",
    "\n",
    "#     for line in f:\n",
    "\n",
    "#         # Removing any white spaces\n",
    "#         line = line.rstrip()\n",
    "\n",
    "#         if line:\n",
    "#             word, pos_, parser_, ner_ = line.split()\n",
    "\n",
    "#             # Checking if special characters occur in input\n",
    "#             if word != \"-DOCSTART-\" and parser_ not in removed and ner_ not in removed:\n",
    "#                 words.append(word)\n",
    "#                 parser.append(parser_)\n",
    "#                 ner.append(ner_)\n",
    "#         else:\n",
    "#             if words != [] and ner != [] and parser != []:\n",
    "#                 tokens.append(words)\n",
    "#                 pos_tags.append(parser)\n",
    "#                 ner_tags.append(ner)\n",
    "#                 words, parser, ner = [], [], []"
   ]
  },
  {
   "cell_type": "code",
   "execution_count": null,
   "id": "8d9d0d5c-f44a-49d9-8e5e-7090102a4f76",
   "metadata": {},
   "outputs": [],
   "source": []
  },
  {
   "cell_type": "code",
   "execution_count": null,
   "id": "482637f4-34a0-47b6-9ebe-d7af30fa8da8",
   "metadata": {},
   "outputs": [],
   "source": []
  },
  {
   "cell_type": "code",
   "execution_count": null,
   "id": "1e435a51-cc0d-4a32-b00d-cd76a1327216",
   "metadata": {},
   "outputs": [],
   "source": []
  },
  {
   "cell_type": "code",
   "execution_count": null,
   "id": "097667e3-e612-497e-95ca-e2ac28db49b3",
   "metadata": {},
   "outputs": [],
   "source": []
  },
  {
   "cell_type": "code",
   "execution_count": null,
   "id": "66e3febe-7dc2-418e-ab83-db57e59c7984",
   "metadata": {},
   "outputs": [],
   "source": []
  },
  {
   "cell_type": "code",
   "execution_count": null,
   "id": "11ca0ed3-8b78-4ca8-8d45-b1cbb999e331",
   "metadata": {},
   "outputs": [],
   "source": []
  },
  {
   "cell_type": "code",
   "execution_count": 13,
   "id": "4df63102-92dd-41cc-af11-f4b2432ffcc3",
   "metadata": {
    "execution": {
     "iopub.execute_input": "2023-05-07T18:27:41.723548Z",
     "iopub.status.busy": "2023-05-07T18:27:41.722547Z",
     "iopub.status.idle": "2023-05-07T18:27:41.745548Z",
     "shell.execute_reply": "2023-05-07T18:27:41.743549Z",
     "shell.execute_reply.started": "2023-05-07T18:27:41.723548Z"
    },
    "tags": []
   },
   "outputs": [],
   "source": [
    "# model = load_model(\"checkpoints/BiLSTM_NER.h5\")\n",
    "    \n",
    "# # test_evaluation = model.evaluate(X_test, y_test)\n",
    "\n",
    "# # print(\"\\nTest loss     : {:5.4f}\".format(test_evaluation[0]))\n",
    "# # print(\"Test accuracy : {:5.2f}%\".format(100 * test_evaluation[1]), \"\\n\")\n",
    "\n",
    "# y_pred = model.predict(X_test)\n",
    "\n",
    "# # y_pred = np.argmax(np.round(predicted_classes), axis=1)\n",
    "# # y_test = np.argmax(np.round(y_test), axis=1)\n",
    "\n",
    "# # y_pred_flat = y_pred.reshape(-1, y_pred.shape[-1])\n",
    "# # y_test_flat = y_test.reshape(-1, y_test.shape[-1])\n",
    "\n",
    "# # print(\"\\n\", classification_report(y_test, y_pred, target_names=all_tags))"
   ]
  },
  {
   "cell_type": "code",
   "execution_count": 14,
   "id": "800d9483-7706-43b8-afac-29afd42694f5",
   "metadata": {
    "execution": {
     "iopub.execute_input": "2023-05-07T18:27:41.749548Z",
     "iopub.status.busy": "2023-05-07T18:27:41.748549Z",
     "iopub.status.idle": "2023-05-07T18:27:41.760549Z",
     "shell.execute_reply": "2023-05-07T18:27:41.758548Z",
     "shell.execute_reply.started": "2023-05-07T18:27:41.749548Z"
    },
    "tags": []
   },
   "outputs": [],
   "source": [
    "# test_data = X_test.reshape(-1, X_test.shape[-1])\n",
    "\n",
    "# y_pred = model.predict(test_data)\n",
    "\n",
    "# y_true = np.argmax(y_test, axis=-1).ravel()\n",
    "# y_pred = np.argmax(y_pred, axis=-1).ravel()\n",
    "\n",
    "# # Compute the classification report\n",
    "# report = classification_report(y_true, y_pred, zero_division=0)\n",
    "# print(report)"
   ]
  },
  {
   "cell_type": "code",
   "execution_count": null,
   "id": "8951a867-4cf8-426d-b40f-331d559f286e",
   "metadata": {},
   "outputs": [],
   "source": []
  },
  {
   "cell_type": "code",
   "execution_count": null,
   "id": "5de82cef-c05f-48b7-9a33-b97b75348b89",
   "metadata": {},
   "outputs": [],
   "source": []
  },
  {
   "cell_type": "code",
   "execution_count": null,
   "id": "e3db5459-84a0-4b93-8d64-f6488ce17857",
   "metadata": {},
   "outputs": [],
   "source": []
  },
  {
   "cell_type": "code",
   "execution_count": null,
   "id": "ea782a36-9cf0-4fba-832c-63195baee24d",
   "metadata": {},
   "outputs": [],
   "source": []
  },
  {
   "cell_type": "code",
   "execution_count": null,
   "id": "cfa0a86d-a94b-4e4b-b97c-1b7e4fd06f00",
   "metadata": {},
   "outputs": [],
   "source": [
    "# Using Adam optimizer with categorical cross entropy loss function \n",
    "# model.compile(optimizer=SGD(learning_rate=learning_rate, decay=weight_decay), \n",
    "#               loss='categorical_crossentropy', \n",
    "#               metrics=['accuracy'])"
   ]
  },
  {
   "cell_type": "code",
   "execution_count": 19,
   "id": "ebb7cd69-bb1c-4d90-8e8e-2d2bb09c7f61",
   "metadata": {
    "collapsed": true,
    "execution": {
     "iopub.execute_input": "2023-05-19T08:53:05.365528Z",
     "iopub.status.busy": "2023-05-19T08:53:05.364526Z",
     "iopub.status.idle": "2023-05-19T10:07:59.845529Z",
     "shell.execute_reply": "2023-05-19T10:07:59.841514Z",
     "shell.execute_reply.started": "2023-05-19T08:53:05.365528Z"
    },
    "jupyter": {
     "outputs_hidden": true
    },
    "tags": []
   },
   "outputs": [
    {
     "name": "stdout",
     "output_type": "stream",
     "text": [
      "\n",
      "       A Bidirectional LSTM for Named Entity Recognition       \n",
      "\n",
      "\n",
      "Training set size      : (14041, 124)\n",
      "Validation set size    : (3250, 124)\n",
      "Test set size          : (3453, 124)\n",
      "\n",
      "Number of unique words : 30291\n",
      "Max length of input    : 124\n",
      "Number of tags         : 9\n",
      "\n",
      "\n",
      "The architecture of the network\n",
      "\n",
      "Model: \"sequential_9\"\n",
      "_________________________________________________________________\n",
      " Layer (type)                Output Shape              Param #   \n",
      "=================================================================\n",
      " embedding_9 (Embedding)     (None, 124, 124)          3756084   \n",
      "                                                                 \n",
      " batch_normalization_9 (Batc  (None, 124, 124)         496       \n",
      " hNormalization)                                                 \n",
      "                                                                 \n",
      " dropout_9 (Dropout)         (None, 124, 124)          0         \n",
      "                                                                 \n",
      " bidirectional_9 (Bidirectio  (None, 124, 248)         247008    \n",
      " nal)                                                            \n",
      "                                                                 \n",
      " time_distributed_9 (TimeDis  (None, 124, 9)           2241      \n",
      " tributed)                                                       \n",
      "                                                                 \n",
      " activation_9 (Activation)   (None, 124, 9)            0         \n",
      "                                                                 \n",
      "=================================================================\n",
      "Total params: 4,005,829\n",
      "Trainable params: 4,005,581\n",
      "Non-trainable params: 248\n",
      "_________________________________________________________________\n",
      "\n",
      "\n",
      "******* Training started for Adam *******\n",
      "\n",
      "Epoch 1/10\n",
      "110/110 [==============================] - ETA: 0s - loss: 0.1386 - accuracy: 0.9715\n",
      "Epoch 1: val_loss improved from inf to 0.58459, saving model to checkpoints\\BiLSTM_NER_Adam.h5\n",
      "110/110 [==============================] - 176s 1s/step - loss: 0.1386 - accuracy: 0.9715 - val_loss: 0.5846 - val_accuracy: 0.8726\n",
      "Epoch 2/10\n",
      "110/110 [==============================] - ETA: 0s - loss: 0.0211 - accuracy: 0.9944\n",
      "Epoch 2: val_loss improved from 0.58459 to 0.42909, saving model to checkpoints\\BiLSTM_NER_Adam.h5\n",
      "110/110 [==============================] - 171s 2s/step - loss: 0.0211 - accuracy: 0.9944 - val_loss: 0.4291 - val_accuracy: 0.8726\n",
      "Epoch 3/10\n",
      "110/110 [==============================] - ETA: 0s - loss: 0.0093 - accuracy: 0.9977\n",
      "Epoch 3: val_loss improved from 0.42909 to 0.18173, saving model to checkpoints\\BiLSTM_NER_Adam.h5\n",
      "110/110 [==============================] - 169s 2s/step - loss: 0.0093 - accuracy: 0.9977 - val_loss: 0.1817 - val_accuracy: 0.9422\n",
      "Epoch 4/10\n",
      "110/110 [==============================] - ETA: 0s - loss: 0.0058 - accuracy: 0.9986\n",
      "Epoch 4: val_loss improved from 0.18173 to 0.05771, saving model to checkpoints\\BiLSTM_NER_Adam.h5\n",
      "110/110 [==============================] - 206s 2s/step - loss: 0.0058 - accuracy: 0.9986 - val_loss: 0.0577 - val_accuracy: 0.9882\n",
      "Epoch 5/10\n",
      "110/110 [==============================] - ETA: 0s - loss: 0.0043 - accuracy: 0.9990\n",
      "Epoch 5: val_loss improved from 0.05771 to 0.02202, saving model to checkpoints\\BiLSTM_NER_Adam.h5\n",
      "110/110 [==============================] - 187s 2s/step - loss: 0.0043 - accuracy: 0.9990 - val_loss: 0.0220 - val_accuracy: 0.9937\n",
      "Epoch 6/10\n",
      "110/110 [==============================] - ETA: 0s - loss: 0.0035 - accuracy: 0.9991\n",
      "Epoch 6: val_loss improved from 0.02202 to 0.01821, saving model to checkpoints\\BiLSTM_NER_Adam.h5\n",
      "110/110 [==============================] - 172s 2s/step - loss: 0.0035 - accuracy: 0.9991 - val_loss: 0.0182 - val_accuracy: 0.9944\n",
      "Epoch 7/10\n",
      "110/110 [==============================] - ETA: 0s - loss: 0.0029 - accuracy: 0.9993\n",
      "Epoch 7: val_loss did not improve from 0.01821\n",
      "110/110 [==============================] - 184s 2s/step - loss: 0.0029 - accuracy: 0.9993 - val_loss: 0.0192 - val_accuracy: 0.9944\n",
      "Epoch 8/10\n",
      "110/110 [==============================] - ETA: 0s - loss: 0.0025 - accuracy: 0.9994\n",
      "Epoch 8: val_loss did not improve from 0.01821\n",
      "110/110 [==============================] - 128s 1s/step - loss: 0.0025 - accuracy: 0.9994 - val_loss: 0.0203 - val_accuracy: 0.9944\n",
      "Epoch 9/10\n",
      "110/110 [==============================] - ETA: 0s - loss: 0.0023 - accuracy: 0.9994\n",
      "Epoch 9: val_loss did not improve from 0.01821\n",
      "110/110 [==============================] - 125s 1s/step - loss: 0.0023 - accuracy: 0.9994 - val_loss: 0.0205 - val_accuracy: 0.9944\n",
      "Epoch 10/10\n",
      "110/110 [==============================] - ETA: 0s - loss: 0.0020 - accuracy: 0.9995\n",
      "Epoch 10: val_loss did not improve from 0.01821\n",
      "110/110 [==============================] - 132s 1s/step - loss: 0.0020 - accuracy: 0.9995 - val_loss: 0.0211 - val_accuracy: 0.9945\n",
      "\n",
      "INFO: Training with Adam completed in 27 mins 32 secs.\n",
      "\n",
      "******* Training finished for Adam *******\n",
      "\n",
      "\n",
      "******* Training started for FTRL *******\n",
      "\n",
      "Epoch 1/10\n",
      "110/110 [==============================] - ETA: 0s - loss: 2.1642 - accuracy: 0.8760\n",
      "Epoch 1: val_loss improved from inf to 2.17871, saving model to checkpoints\\BiLSTM_NER_FTRL.h5\n",
      "110/110 [==============================] - 126s 1s/step - loss: 2.1642 - accuracy: 0.8760 - val_loss: 2.1787 - val_accuracy: 0.8726\n",
      "Epoch 2/10\n",
      "110/110 [==============================] - ETA: 0s - loss: 2.1769 - accuracy: 0.8830\n",
      "Epoch 2: val_loss improved from 2.17871 to 2.17610, saving model to checkpoints\\BiLSTM_NER_FTRL.h5\n",
      "110/110 [==============================] - 125s 1s/step - loss: 2.1769 - accuracy: 0.8830 - val_loss: 2.1761 - val_accuracy: 0.8726\n",
      "Epoch 3/10\n",
      "110/110 [==============================] - ETA: 0s - loss: 2.1756 - accuracy: 0.8830\n",
      "Epoch 3: val_loss improved from 2.17610 to 2.17577, saving model to checkpoints\\BiLSTM_NER_FTRL.h5\n",
      "110/110 [==============================] - 122s 1s/step - loss: 2.1756 - accuracy: 0.8830 - val_loss: 2.1758 - val_accuracy: 0.8726\n",
      "Epoch 4/10\n",
      "110/110 [==============================] - ETA: 0s - loss: 2.1757 - accuracy: 0.8830\n",
      "Epoch 4: val_loss did not improve from 2.17577\n",
      "110/110 [==============================] - 119s 1s/step - loss: 2.1757 - accuracy: 0.8830 - val_loss: 2.1761 - val_accuracy: 0.8726\n",
      "Epoch 5/10\n",
      "110/110 [==============================] - ETA: 0s - loss: 2.1762 - accuracy: 0.8830\n",
      "Epoch 5: val_loss did not improve from 2.17577\n",
      "110/110 [==============================] - 116s 1s/step - loss: 2.1762 - accuracy: 0.8830 - val_loss: 2.1767 - val_accuracy: 0.8726\n",
      "Epoch 6/10\n",
      "110/110 [==============================] - ETA: 0s - loss: 2.1768 - accuracy: 0.8830\n",
      "Epoch 6: val_loss did not improve from 2.17577\n",
      "110/110 [==============================] - 117s 1s/step - loss: 2.1768 - accuracy: 0.8830 - val_loss: 2.1773 - val_accuracy: 0.8726\n",
      "Epoch 7/10\n",
      "110/110 [==============================] - ETA: 0s - loss: 2.1774 - accuracy: 0.8830\n",
      "Epoch 7: val_loss did not improve from 2.17577\n",
      "110/110 [==============================] - 115s 1s/step - loss: 2.1774 - accuracy: 0.8830 - val_loss: 2.1779 - val_accuracy: 0.8726\n",
      "Epoch 8/10\n",
      "110/110 [==============================] - ETA: 0s - loss: 2.1780 - accuracy: 0.8830\n",
      "Epoch 8: val_loss did not improve from 2.17577\n",
      "110/110 [==============================] - 115s 1s/step - loss: 2.1780 - accuracy: 0.8830 - val_loss: 2.1785 - val_accuracy: 0.8726\n",
      "Epoch 9/10\n",
      "110/110 [==============================] - ETA: 0s - loss: 2.1786 - accuracy: 0.8830\n",
      "Epoch 9: val_loss did not improve from 2.17577\n",
      "110/110 [==============================] - 115s 1s/step - loss: 2.1786 - accuracy: 0.8830 - val_loss: 2.1791 - val_accuracy: 0.8726\n",
      "Epoch 10/10\n",
      "110/110 [==============================] - ETA: 0s - loss: 2.1791 - accuracy: 0.8830\n",
      "Epoch 10: val_loss did not improve from 2.17577\n",
      "110/110 [==============================] - 115s 1s/step - loss: 2.1791 - accuracy: 0.8830 - val_loss: 2.1796 - val_accuracy: 0.8726\n",
      "\n",
      "INFO: Training with FTRL completed in 19 mins 45 secs.\n",
      "\n",
      "******* Training finished for FTRL *******\n",
      "\n",
      "\n",
      "******* Training started for SGD *******\n",
      "\n",
      "Epoch 1/10\n",
      "110/110 [==============================] - ETA: 0s - loss: 2.1473 - accuracy: 0.8830\n",
      "Epoch 1: val_loss improved from inf to 2.11942, saving model to checkpoints\\BiLSTM_NER_SGD.h5\n",
      "110/110 [==============================] - 197s 2s/step - loss: 2.1473 - accuracy: 0.8830 - val_loss: 2.1194 - val_accuracy: 0.8726\n",
      "Epoch 2/10\n",
      "110/110 [==============================] - ETA: 0s - loss: 2.0958 - accuracy: 0.8830\n",
      "Epoch 2: val_loss improved from 2.11942 to 2.07629, saving model to checkpoints\\BiLSTM_NER_SGD.h5\n",
      "110/110 [==============================] - 170s 2s/step - loss: 2.0958 - accuracy: 0.8830 - val_loss: 2.0763 - val_accuracy: 0.8726\n",
      "Epoch 3/10\n",
      "110/110 [==============================] - ETA: 0s - loss: 2.0574 - accuracy: 0.8830\n",
      "Epoch 3: val_loss improved from 2.07629 to 2.04277, saving model to checkpoints\\BiLSTM_NER_SGD.h5\n",
      "110/110 [==============================] - 167s 2s/step - loss: 2.0574 - accuracy: 0.8830 - val_loss: 2.0428 - val_accuracy: 0.8726\n",
      "Epoch 4/10\n",
      "110/110 [==============================] - ETA: 0s - loss: 2.0267 - accuracy: 0.8830\n",
      "Epoch 4: val_loss improved from 2.04277 to 2.01545, saving model to checkpoints\\BiLSTM_NER_SGD.h5\n",
      "110/110 [==============================] - 165s 2s/step - loss: 2.0267 - accuracy: 0.8830 - val_loss: 2.0154 - val_accuracy: 0.8726\n",
      "Epoch 5/10\n",
      "110/110 [==============================] - ETA: 0s - loss: 2.0013 - accuracy: 0.8830\n",
      "Epoch 5: val_loss improved from 2.01545 to 1.99242, saving model to checkpoints\\BiLSTM_NER_SGD.h5\n",
      "110/110 [==============================] - 162s 1s/step - loss: 2.0013 - accuracy: 0.8830 - val_loss: 1.9924 - val_accuracy: 0.8726\n",
      "Epoch 6/10\n",
      "110/110 [==============================] - ETA: 0s - loss: 1.9796 - accuracy: 0.8830\n",
      "Epoch 6: val_loss improved from 1.99242 to 1.97255, saving model to checkpoints\\BiLSTM_NER_SGD.h5\n",
      "110/110 [==============================] - 159s 1s/step - loss: 1.9796 - accuracy: 0.8830 - val_loss: 1.9725 - val_accuracy: 0.8726\n",
      "Epoch 7/10\n",
      "110/110 [==============================] - ETA: 0s - loss: 1.9608 - accuracy: 0.8830\n",
      "Epoch 7: val_loss improved from 1.97255 to 1.95510, saving model to checkpoints\\BiLSTM_NER_SGD.h5\n",
      "110/110 [==============================] - 159s 1s/step - loss: 1.9608 - accuracy: 0.8830 - val_loss: 1.9551 - val_accuracy: 0.8726\n",
      "Epoch 8/10\n",
      "110/110 [==============================] - ETA: 0s - loss: 1.9441 - accuracy: 0.8830\n",
      "Epoch 8: val_loss improved from 1.95510 to 1.93957, saving model to checkpoints\\BiLSTM_NER_SGD.h5\n",
      "110/110 [==============================] - 159s 1s/step - loss: 1.9441 - accuracy: 0.8830 - val_loss: 1.9396 - val_accuracy: 0.8726\n",
      "Epoch 9/10\n",
      "110/110 [==============================] - ETA: 0s - loss: 1.9291 - accuracy: 0.8830\n",
      "Epoch 9: val_loss improved from 1.93957 to 1.92558, saving model to checkpoints\\BiLSTM_NER_SGD.h5\n",
      "110/110 [==============================] - 159s 1s/step - loss: 1.9291 - accuracy: 0.8830 - val_loss: 1.9256 - val_accuracy: 0.8726\n",
      "Epoch 10/10\n",
      "110/110 [==============================] - ETA: 0s - loss: 1.9156 - accuracy: 0.8830\n",
      "Epoch 10: val_loss improved from 1.92558 to 1.91285, saving model to checkpoints\\BiLSTM_NER_SGD.h5\n",
      "110/110 [==============================] - 157s 1s/step - loss: 1.9156 - accuracy: 0.8830 - val_loss: 1.9128 - val_accuracy: 0.8726\n",
      "\n",
      "INFO: Training with SGD completed in 27 mins 35 secs.\n",
      "\n",
      "******* Training finished for SGD *******\n"
     ]
    },
    {
     "ename": "AttributeError",
     "evalue": "'dict' object has no attribute 'history'",
     "output_type": "error",
     "traceback": [
      "\u001b[1;31m---------------------------------------------------------------------------\u001b[0m",
      "\u001b[1;31mAttributeError\u001b[0m                            Traceback (most recent call last)",
      "Cell \u001b[1;32mIn[19], line 77\u001b[0m\n\u001b[0;32m     73\u001b[0m \u001b[38;5;66;03m# Printing loss and accuracy\u001b[39;00m\n\u001b[0;32m     74\u001b[0m \n\u001b[0;32m     75\u001b[0m \u001b[38;5;66;03m# Saving model history object\u001b[39;00m\n\u001b[0;32m     76\u001b[0m \u001b[38;5;28;01mwith\u001b[39;00m \u001b[38;5;28mopen\u001b[39m(\u001b[38;5;124m'\u001b[39m\u001b[38;5;124mcheckpoints/history.pkl\u001b[39m\u001b[38;5;124m'\u001b[39m, \u001b[38;5;124m'\u001b[39m\u001b[38;5;124mwb\u001b[39m\u001b[38;5;124m'\u001b[39m) \u001b[38;5;28;01mas\u001b[39;00m f:\n\u001b[1;32m---> 77\u001b[0m     pickle\u001b[38;5;241m.\u001b[39mdump(\u001b[43mhistory\u001b[49m\u001b[38;5;241;43m.\u001b[39;49m\u001b[43mhistory\u001b[49m, f)\n\u001b[0;32m     79\u001b[0m \u001b[38;5;66;03m# Loading history object from the file\u001b[39;00m\n\u001b[0;32m     80\u001b[0m \u001b[38;5;28;01mwith\u001b[39;00m \u001b[38;5;28mopen\u001b[39m(\u001b[38;5;124m'\u001b[39m\u001b[38;5;124mcheckpoints/history.pkl\u001b[39m\u001b[38;5;124m'\u001b[39m, \u001b[38;5;124m'\u001b[39m\u001b[38;5;124mrb\u001b[39m\u001b[38;5;124m'\u001b[39m) \u001b[38;5;28;01mas\u001b[39;00m f:\n",
      "\u001b[1;31mAttributeError\u001b[0m: 'dict' object has no attribute 'history'"
     ]
    }
   ],
   "source": [
    "# def main():\n",
    "    \n",
    "print(\"\\n       A Bidirectional LSTM for Named Entity Recognition       \\n\")\n",
    "\n",
    "\n",
    "\n",
    "# Loading dataset\n",
    "\n",
    "all_words, all_tags, X_train, X_valid, X_test, y_train, y_valid, y_test, NUM_WORDS, MAX_LEN, NUM_TAGS = load_dataset()\n",
    "\n",
    "\n",
    "\n",
    "# Training\n",
    "\n",
    "# batch_size = int(input(\"\\nEnter batch size       :\"))\n",
    "# epochs = int(input(\"Enter number of epochs :\"))\n",
    "# learning_rate = float(input(\"Enter learning rate    :\"))\n",
    "# weight_decay = float(input(\"Enter weight decay     :\"))\n",
    "\n",
    "batch_size = 128\n",
    "epochs = 10\n",
    "learning_rate = 0.001\n",
    "weight_decay = 0.004\n",
    "\n",
    "# Instantiating model object\n",
    "model = bi_lstm(NUM_WORDS, MAX_LEN, NUM_TAGS, learning_rate, weight_decay)\n",
    "\n",
    "\n",
    "\n",
    "optimizers = {\n",
    "    'SGD': SGD(learning_rate=learning_rate, decay=weight_decay),\n",
    "    'Adam': Adam(learning_rate=learning_rate, decay=weight_decay),\n",
    "    'FTRL': Ftrl(learning_rate=learning_rate, decay=weight_decay)\n",
    "}\n",
    "\n",
    "histories = {}\n",
    "\n",
    "for optimizer_name, optimizer in optimizers.items():\n",
    "    \n",
    "    print(f\"\\n\\n******* Training started for {optimizer_name} *******\\n\")\n",
    "    \n",
    "    start_time = time.time()\n",
    "    \n",
    "    # Creaing checkpoint callback to save trained epochs\n",
    "    model_name = f'checkpoints/BiLSTM_NER_{optimizer_name}.h5'\n",
    "    checkpoint = ModelCheckpoint(model_name, monitor='val_loss', verbose=1, save_best_only=True, mode='min')\n",
    "    \n",
    "    model.compile(optimizer=optimizer, \n",
    "                  loss='categorical_crossentropy', \n",
    "                  metrics=['accuracy'])\n",
    "    \n",
    "    hist = model.fit(X_train, \n",
    "                     y_train, \n",
    "                     epochs=epochs, \n",
    "                     batch_size=batch_size, \n",
    "                     validation_data=(X_valid, y_valid),\n",
    "                     callbacks=[checkpoint],\n",
    "                     verbose=1\n",
    "                    )\n",
    "    \n",
    "    histories[optimizer_name] = hist\n",
    "    \n",
    "    end_time = time.time()\n",
    "    minutes, seconds = divmod(end_time - start_time, 60)\n",
    "    print(f\"\\nINFO: Training with {optimizer_name} completed in {round(minutes)} mins {round(seconds)} secs.\")\n",
    "\n",
    "    print(f\"\\n******* Training finished for {optimizer_name} *******\")\n",
    "\n",
    "\n",
    "\n",
    "\n",
    "\n",
    "# Printing loss and accuracy\n",
    "\n",
    "# Saving model history object\n",
    "with open('checkpoints/history.pkl', 'wb') as f:\n",
    "    pickle.dump(history.history, f)\n",
    "\n",
    "# Loading history object from the file\n",
    "with open('checkpoints/history.pkl', 'rb') as f:\n",
    "    history = pickle.load(f)\n",
    "    \n",
    "plot_acc_loss(histories)\n",
    "    \n",
    "\n",
    "    \n",
    "# Evaluating the model on test data\n",
    "\n",
    "print(\"\\n******* Evaluation started *******\\n\")\n",
    "\n",
    "evaluate(X_test, y_test, all_tags)\n",
    "\n",
    "print(\"\\n******* Evaluation finished *******\")\n",
    "    \n",
    "    \n",
    "    # return"
   ]
  },
  {
   "cell_type": "code",
   "execution_count": 46,
   "id": "b34489e3-683c-4c01-abb1-aca398770ac9",
   "metadata": {
    "execution": {
     "iopub.execute_input": "2023-05-19T10:44:23.730288Z",
     "iopub.status.busy": "2023-05-19T10:44:23.729287Z",
     "iopub.status.idle": "2023-05-19T10:44:45.786327Z",
     "shell.execute_reply": "2023-05-19T10:44:45.785325Z",
     "shell.execute_reply.started": "2023-05-19T10:44:23.730288Z"
    },
    "tags": []
   },
   "outputs": [
    {
     "data": {
      "image/png": "[encoded data removed]",
      "text/plain": [
       "<Figure size 600x400 with 1 Axes>"
      ]
     },
     "metadata": {},
     "output_type": "display_data"
    },
    {
     "name": "stdout",
     "output_type": "stream",
     "text": [
      "\n",
      "******* Evaluation started *******\n",
      "\n",
      "108/108 [==============================] - 21s 174ms/step - loss: 0.0233 - accuracy: 0.9924\n",
      "\n",
      "Test loss     : 0.0233\n",
      "Test accuracy : 99.24%\n",
      "\n",
      "******* Evaluation finished *******\n"
     ]
    }
   ],
   "source": [
    "plot_acc_loss(histories)\n",
    "    \n",
    "\n",
    "    \n",
    "# Evaluating the model on test data\n",
    "\n",
    "print(\"\\n******* Evaluation started *******\\n\")\n",
    "\n",
    "evaluate(X_test, y_test, all_tags)\n",
    "\n",
    "print(\"\\n******* Evaluation finished *******\")"
   ]
  },
  {
   "cell_type": "code",
   "execution_count": null,
   "id": "9022606a-c133-467f-a890-0bfa29b184af",
   "metadata": {},
   "outputs": [],
   "source": []
  },
  {
   "cell_type": "code",
   "execution_count": null,
   "id": "4b959eb0-cd90-4449-8ea6-7687b6917787",
   "metadata": {},
   "outputs": [],
   "source": []
  },
  {
   "cell_type": "code",
   "execution_count": 31,
   "id": "27c6e16f-8a18-4783-b81f-a5faaff46d29",
   "metadata": {
    "execution": {
     "iopub.execute_input": "2023-05-20T11:15:32.288444Z",
     "iopub.status.busy": "2023-05-20T11:15:32.287443Z",
     "iopub.status.idle": "2023-05-20T11:15:33.773445Z",
     "shell.execute_reply": "2023-05-20T11:15:33.771443Z",
     "shell.execute_reply.started": "2023-05-20T11:15:32.288444Z"
    },
    "tags": []
   },
   "outputs": [
    {
     "data": {
      "image/png": "[encoded data removed]",
      "text/plain": [
       "<Figure size 1000x400 with 2 Axes>"
      ]
     },
     "metadata": {},
     "output_type": "display_data"
    }
   ],
   "source": [
    "fig, axs = plt.subplots(1, 2, figsize=(10, 4))\n",
    "\n",
    "# Plot the first graph\n",
    "axs[0].plot(history['loss'], label='train', marker = 'o')\n",
    "axs[0].plot(history['val_loss'], label='val', marker = 'v')\n",
    "axs[0].set_title('Training and Validation Loss')\n",
    "axs[0].set_xlabel('Epoch')\n",
    "axs[0].set_ylabel('Loss')\n",
    "axs[0].legend()\n",
    "axs[0].set_xticks(np.arange(len(history['accuracy'])), np.arange(1, len(history['accuracy'])+1))\n",
    "\n",
    "# Plot the second graph\n",
    "axs[1].plot(history['accuracy'], label='train', marker = 'o')\n",
    "axs[1].plot(history['val_accuracy'], label='val', marker = 'v')\n",
    "axs[1].set_title('Training and Validation Accuracy')\n",
    "axs[1].set_xlabel('Epoch')\n",
    "axs[1].set_ylabel('Accuracy')\n",
    "axs[1].legend()\n",
    "axs[1].set_xticks(np.arange(len(history['accuracy'])), np.arange(1, len(history['accuracy'])+1))\n",
    "\n",
    "# Adjust the spacing between subplots\n",
    "plt.tight_layout()\n",
    "\n",
    "# Show the plot\n",
    "plt.show()"
   ]
  },
  {
   "cell_type": "code",
   "execution_count": null,
   "id": "e812c91f-0e9a-45d5-8f9b-76485078f30a",
   "metadata": {},
   "outputs": [],
   "source": []
  },
  {
   "cell_type": "code",
   "execution_count": null,
   "id": "1405479d-4097-45d3-aa06-1fb85c808a3a",
   "metadata": {},
   "outputs": [],
   "source": []
  },
  {
   "cell_type": "code",
   "execution_count": null,
   "id": "4f7f3032-617d-44d7-9998-53223f9708d2",
   "metadata": {},
   "outputs": [],
   "source": []
  },
  {
   "cell_type": "code",
   "execution_count": 66,
   "id": "7f55abe8-bed7-4d10-a884-730b7b4fdc6b",
   "metadata": {
    "execution": {
     "iopub.execute_input": "2023-05-20T14:42:02.720860Z",
     "iopub.status.busy": "2023-05-20T14:42:02.720860Z",
     "iopub.status.idle": "2023-05-20T14:42:02.741859Z",
     "shell.execute_reply": "2023-05-20T14:42:02.740860Z",
     "shell.execute_reply.started": "2023-05-20T14:42:02.720860Z"
    },
    "tags": []
   },
   "outputs": [],
   "source": [
    "def predict_named_entities(example, model, tokenizer, max_len):\n",
    "    \n",
    "    # Tokenize the input example\n",
    "    tokens = tokenizer.texts_to_sequences([example])\n",
    "    tokens_padded = pad_sequences(tokens, maxlen=max_len, padding='post', truncating='post')\n",
    "\n",
    "    # Make predictions\n",
    "    predictions = model.predict(np.array(tokens_padded))\n",
    "\n",
    "    # Convert the predictions to named entities\n",
    "    named_entities = []\n",
    "    current_entity = None\n",
    "\n",
    "    for token, prediction in zip(tokens_padded[0], predictions[0]):\n",
    "        if token != 0:  # Exclude padding tokens\n",
    "            predicted_tag = all_tags[np.argmax(prediction)]\n",
    "            if predicted_tag.startswith('B-'):  # Beginning of a named entity\n",
    "                if current_entity:\n",
    "                    named_entities.append(current_entity.strip())\n",
    "                current_entity = f'{predicted_tag[2:]}: {tokenizer.sequences_to_texts([[token]])[0]}'\n",
    "            elif predicted_tag.startswith('I-'):  # Inside a named entity\n",
    "                if current_entity:\n",
    "                    current_entity += ' ' + tokenizer.sequences_to_texts([[token]])[0]\n",
    "            else:  # Outside of a named entity\n",
    "                if current_entity:\n",
    "                    named_entities.append(current_entity.strip())\n",
    "                    current_entity = None\n",
    "\n",
    "    if current_entity:\n",
    "        named_entities.append(current_entity.strip())\n",
    "\n",
    "    return named_entities\n"
   ]
  },
  {
   "cell_type": "code",
   "execution_count": 71,
   "id": "57848c35-23d3-4b46-9083-ebca5d0c3d1d",
   "metadata": {
    "execution": {
     "iopub.execute_input": "2023-05-20T14:46:54.077776Z",
     "iopub.status.busy": "2023-05-20T14:46:54.076776Z",
     "iopub.status.idle": "2023-05-20T14:46:54.306777Z",
     "shell.execute_reply": "2023-05-20T14:46:54.304777Z",
     "shell.execute_reply.started": "2023-05-20T14:46:54.077776Z"
    },
    "tags": []
   },
   "outputs": [
    {
     "name": "stdout",
     "output_type": "stream",
     "text": [
      "1/1 [==============================] - 0s 107ms/step\n",
      "[]\n"
     ]
    }
   ],
   "source": [
    "example = \"Leonard went to Chile to take a vacation\"\n",
    "\n",
    "# Preprocess the input example\n",
    "prediction = predict_named_entities(example, model, tokenizer, MAX_LEN)\n",
    "\n",
    "# Print the named entities\n",
    "print(prediction)"
   ]
  }
 ],
 "metadata": {
  "kernelspec": {
   "display_name": "Python 3 (ipykernel)",
   "language": "python",
   "name": "python3"
  },
  "language_info": {
   "codemirror_mode": {
    "name": "ipython",
    "version": 3
   },
   "file_extension": ".py",
   "mimetype": "text/x-python",
   "name": "python",
   "nbconvert_exporter": "python",
   "pygments_lexer": "ipython3",
   "version": "3.9.16"
  }
 },
 "nbformat": 4,
 "nbformat_minor": 5
}

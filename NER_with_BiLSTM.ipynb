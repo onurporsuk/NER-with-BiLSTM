{
 "cells": [
  {
   "cell_type": "markdown",
   "id": "608a572f-277a-4cf2-aec4-8149902e0f5a",
   "metadata": {},
   "source": [
    "# Named Entity Recognition Using Bi LSTM"
   ]
  },
  {
   "cell_type": "markdown",
   "id": "448bf05b-f27b-41a0-a72f-75013507e439",
   "metadata": {
    "execution": {
     "iopub.execute_input": "2023-05-06T11:18:50.134194Z",
     "iopub.status.busy": "2023-05-06T11:18:50.134194Z",
     "iopub.status.idle": "2023-05-06T11:18:50.141194Z",
     "shell.execute_reply": "2023-05-06T11:18:50.140196Z",
     "shell.execute_reply.started": "2023-05-06T11:18:50.134194Z"
    }
   },
   "source": [
    "## Importing Libraries"
   ]
  },
  {
   "cell_type": "code",
   "execution_count": null,
   "id": "5704bb1f-9d26-4b85-9e49-8190dc4447c0",
   "metadata": {
    "tags": []
   },
   "outputs": [],
   "source": [
    "from keras.layers import LSTM, Embedding, Dense, TimeDistributed, Dropout, Bidirectional, Activation, BatchNormalization\n",
    "from keras_preprocessing.sequence import pad_sequences\n",
    "from keras.models import Sequential, load_model\n",
    "from keras.optimizers import SGD, Adam, Ftrl\n",
    "from keras.callbacks import ModelCheckpoint\n",
    "from keras.utils import to_categorical\n",
    "from tensorflow.keras import metrics\n",
    "from matplotlib import pyplot as plt\n",
    "import numpy as np\n",
    "import pickle\n",
    "import time"
   ]
  },
  {
   "cell_type": "markdown",
   "id": "e47a04a2-ae82-4345-91bb-890c8636d947",
   "metadata": {},
   "source": [
    "## Preparing Dataset"
   ]
  },
  {
   "cell_type": "markdown",
   "id": "4a595c47-509a-4cf0-a5b1-fdae864c002f",
   "metadata": {},
   "source": [
    "### Reading From File"
   ]
  },
  {
   "cell_type": "code",
   "execution_count": 2,
   "id": "3cd4ec78-028e-48ca-8d82-d44678a25db7",
   "metadata": {
    "execution": {
     "iopub.execute_input": "2023-05-21T07:08:52.363062Z",
     "iopub.status.busy": "2023-05-21T07:08:52.362066Z",
     "iopub.status.idle": "2023-05-21T07:08:52.373058Z",
     "shell.execute_reply": "2023-05-21T07:08:52.373058Z",
     "shell.execute_reply.started": "2023-05-21T07:08:52.363062Z"
    },
    "tags": []
   },
   "outputs": [],
   "source": [
    "# Loading data with quick preprocessesing steps\n",
    "\n",
    "def read_file(file_name):\n",
    "\n",
    "    words = []\n",
    "    parser = []\n",
    "    ner = []    \n",
    "    tokens = []\n",
    "    pos_tags = []\n",
    "    ner_tags = []\n",
    "    \n",
    "    # Some unnecessary characters to remove from input\n",
    "    chars = \"\"\"(),.<>?$#@\"!%&*:;'~`^=-_+\\|{}[]/\"\"\"\n",
    "    removed = [i for i in chars]\n",
    "    \n",
    "    with open(file_name, encoding='utf-8') as f:\n",
    "        \n",
    "        for line in f:\n",
    "            \n",
    "            # Removing any white spaces\n",
    "            line = line.rstrip()\n",
    "            \n",
    "            if line:\n",
    "                word, pos_, parser_, ner_ = line.split()\n",
    "                \n",
    "                # Checking if special characters occur in input\n",
    "                if word != \"-DOCSTART-\" and parser_ not in removed and ner_ not in removed:\n",
    "                    words.append(word)\n",
    "                    parser.append(parser_)\n",
    "                    ner.append(ner_)\n",
    "            else:\n",
    "                if words != [] and ner != [] and parser != []:\n",
    "                    tokens.append(words)\n",
    "                    pos_tags.append(parser)\n",
    "                    ner_tags.append(ner)\n",
    "                    words, parser, ner = [], [], []\n",
    "\n",
    "    return tokens, pos_tags, ner_tags"
   ]
  },
  {
   "cell_type": "markdown",
   "id": "0716d93c-1a31-4130-aa76-20f075489322",
   "metadata": {},
   "source": [
    "### Converting Dataset"
   ]
  },
  {
   "cell_type": "code",
   "execution_count": 3,
   "id": "c113f2e9-adda-4abc-aefd-6e437aabbe75",
   "metadata": {
    "execution": {
     "iopub.execute_input": "2023-05-21T07:08:52.377061Z",
     "iopub.status.busy": "2023-05-21T07:08:52.376060Z",
     "iopub.status.idle": "2023-05-21T07:08:52.408063Z",
     "shell.execute_reply": "2023-05-21T07:08:52.405066Z",
     "shell.execute_reply.started": "2023-05-21T07:08:52.377061Z"
    },
    "tags": []
   },
   "outputs": [],
   "source": [
    "# Converting data into better format for training\n",
    "\n",
    "def convert_data(MAX_LEN, x_train, y_train, all_words, all_tags):\n",
    "    \n",
    "    # Finds index of words\n",
    "    \n",
    "    temp_all_words = {value: idx + 2 for idx, value in enumerate(all_words)}\n",
    "    temp_all_words[\"UNK\"] = 1 \n",
    "    temp_all_words[\"PAD\"] = 0\n",
    "    \n",
    "    # Finds index of tags\n",
    "\n",
    "    temp_all_tags = {value: idx + 1 for idx, value in enumerate(all_tags)}\n",
    "    temp_all_tags[\"PAD\"] = 0 \n",
    "    \n",
    "    X = [[temp_all_words[x] for x in value] for value in x_train] \n",
    "    y = [[temp_all_tags[x] for x in value] for value in y_train]\n",
    "\n",
    "    # Padding X and y train sequences\n",
    "    \n",
    "    X_padded = pad_sequences(maxlen=MAX_LEN, sequences=X, padding=\"post\", value=0)\n",
    "    y_padded = pad_sequences(maxlen=MAX_LEN, sequences=y, padding=\"post\", value=0)\n",
    "    \n",
    "    return X_padded, np.array([to_categorical(idx, num_classes=len(all_tags) + 1) for idx in y_padded])"
   ]
  },
  {
   "cell_type": "markdown",
   "id": "2e130455-0a95-485a-a2a4-a1948e79a205",
   "metadata": {},
   "source": [
    "### Loading Dataset"
   ]
  },
  {
   "cell_type": "code",
   "execution_count": 4,
   "id": "baef5744-1c76-4914-9210-6f9d140eaf6c",
   "metadata": {
    "execution": {
     "iopub.execute_input": "2023-05-21T07:08:52.417063Z",
     "iopub.status.busy": "2023-05-21T07:08:52.416061Z",
     "iopub.status.idle": "2023-05-21T07:08:52.438060Z",
     "shell.execute_reply": "2023-05-21T07:08:52.437061Z",
     "shell.execute_reply.started": "2023-05-21T07:08:52.417063Z"
    },
    "tags": []
   },
   "outputs": [],
   "source": [
    "# Loading dataset using the previously defined auxiliary functions \n",
    "\n",
    "def load_dataset():\n",
    "    \n",
    "    try:\n",
    "        X_train, _, y_train = read_file(\"Data/train.file\")\n",
    "        X_valid, _, y_valid = read_file(\"Data/valid.file\")\n",
    "        X_test, _, y_test = read_file(\"Data/test.file\")\n",
    "\n",
    "    except:\n",
    "        print(\"An error occured while loading dataset...\")\n",
    "\n",
    "    # Extracting unique words to find max length, number of words and number of tags\n",
    "\n",
    "    all_words, all_tags = [], []\n",
    "\n",
    "    for idx in X_train + X_valid + X_test: \n",
    "        for x in idx: \n",
    "            all_words.append(x)\n",
    "\n",
    "    for idx in y_train: \n",
    "        for x in idx:\n",
    "            all_tags.append(x)\n",
    "\n",
    "    all_words = list(set(all_words))\n",
    "    all_tags = list(set(all_tags))\n",
    "\n",
    "    MAX_LEN = max([len(x) for x in X_train + X_valid + X_test])\n",
    "    NUM_WORDS = len(all_words) + 2\n",
    "    NUM_TAGS = len(all_tags) + 1\n",
    "\n",
    "    # Converting dataset into better format for training\n",
    "\n",
    "    X_train, y_train = convert_data(MAX_LEN, X_train, y_train, all_words, all_tags)\n",
    "    X_valid, y_valid = convert_data(MAX_LEN, X_valid, y_valid, all_words, all_tags)\n",
    "    X_test, y_test = convert_data(MAX_LEN, X_test, y_test, all_words, all_tags)\n",
    "\n",
    "    print(\"\\nCorpus\\n\")\n",
    "    print(\"Training set size      :\", X_train.shape)\n",
    "    print(\"Validation set size    :\", X_valid.shape)\n",
    "    print(\"Test set size          :\", X_test.shape)\n",
    "    print(\"\\nNumber of unique words :\", NUM_WORDS)\n",
    "    print(\"Max length of input    :\", MAX_LEN)\n",
    "    print(\"Number of tags         :\", NUM_TAGS)\n",
    "    \n",
    "    return all_words, all_tags, X_train, X_valid, X_test, y_train, y_valid, y_test, NUM_WORDS, MAX_LEN, NUM_TAGS"
   ]
  },
  {
   "cell_type": "markdown",
   "id": "65cc7007-c30e-4adc-8e8c-783c166f6d73",
   "metadata": {},
   "source": [
    "## Creating Model Object"
   ]
  },
  {
   "cell_type": "code",
   "execution_count": 5,
   "id": "6385d02f-73eb-4d13-8310-de6656f8b502",
   "metadata": {
    "execution": {
     "iopub.execute_input": "2023-05-21T07:08:52.441063Z",
     "iopub.status.busy": "2023-05-21T07:08:52.441063Z",
     "iopub.status.idle": "2023-05-21T07:08:52.474061Z",
     "shell.execute_reply": "2023-05-21T07:08:52.468073Z",
     "shell.execute_reply.started": "2023-05-21T07:08:52.441063Z"
    },
    "tags": []
   },
   "outputs": [],
   "source": [
    "# Creating model object with specified hyperparameters\n",
    "\n",
    "def bi_lstm(NUM_WORDS, MAX_LEN, NUM_TAGS, learning_rate, weight_decay, dropout_rate):\n",
    "    \n",
    "    model = Sequential([\n",
    "        \n",
    "        # Embedding layer\n",
    "        Embedding(input_dim=NUM_WORDS, \n",
    "                  output_dim=MAX_LEN, \n",
    "                  input_length=MAX_LEN),\n",
    "        \n",
    "        BatchNormalization(),\n",
    "        Dropout(dropout_rate),\n",
    "        \n",
    "        # Bi LSTM with recurrent dropout \n",
    "        Bidirectional(LSTM(units=MAX_LEN,\n",
    "                           return_sequences=True,\n",
    "                           recurrent_dropout=0.1)),\n",
    "        \n",
    "        # Time distributed layer to run on each token of the sequence (last dense layer)\n",
    "        TimeDistributed(Dense(units=NUM_TAGS)),\n",
    "    \n",
    "        Activation('softmax')\n",
    "\n",
    "    ])\n",
    "    \n",
    "    print(\"\\n\\nThe architecture of the network\\n\")\n",
    "    model.summary()\n",
    "\n",
    "    model.compile(optimizer=Adam(learning_rate=learning_rate, decay=weight_decay), \n",
    "                  loss='categorical_crossentropy', \n",
    "                  metrics=['accuracy', metrics.Precision, metrics.Recall, metrics.])\n",
    "    \n",
    "    return model"
   ]
  },
  {
   "cell_type": "markdown",
   "id": "99e2a20c-c0bb-4f87-8ce2-667de1bce6ec",
   "metadata": {},
   "source": [
    "## Plotting Loss and Acc"
   ]
  },
  {
   "cell_type": "code",
   "execution_count": 6,
   "id": "cc830bd7-98e3-450d-b9fc-1ec1be3383f9",
   "metadata": {
    "execution": {
     "iopub.execute_input": "2023-05-21T07:08:52.477061Z",
     "iopub.status.busy": "2023-05-21T07:08:52.476063Z",
     "iopub.status.idle": "2023-05-21T07:08:52.499066Z",
     "shell.execute_reply": "2023-05-21T07:08:52.498060Z",
     "shell.execute_reply.started": "2023-05-21T07:08:52.477061Z"
    },
    "tags": []
   },
   "outputs": [],
   "source": [
    "# Plotting accuracy and loss after training\n",
    "\n",
    "def plot_acc_loss(history):\n",
    "\n",
    "    # Plotting the training and validation loss\n",
    "\n",
    "    plt.plot(history['loss'], label='train', marker = 'o')\n",
    "    plt.plot(history['val_loss'], label='val', marker = 'v')\n",
    "    plt.title('Training and Validation Loss')\n",
    "    plt.xlabel('Epoch')\n",
    "    plt.ylabel('Loss')\n",
    "    plt.legend()\n",
    "    plt.xticks(np.arange(len(history['accuracy'])), np.arange(1, len(history['accuracy'])+1))\n",
    "    plt.show()\n",
    "\n",
    "    # Plotting the training and validation accuracy\n",
    "\n",
    "    plt.plot(history['accuracy'], label='train', marker = 'o')\n",
    "    plt.plot(history['val_accuracy'], label='val', marker = 'v')\n",
    "    plt.title('Training and Validation Accuracy')\n",
    "    plt.xlabel('Epoch')\n",
    "    plt.ylabel('Accuracy')\n",
    "    plt.legend()\n",
    "    plt.xticks(np.arange(len(history['accuracy'])), np.arange(1, len(history['accuracy'])+1))\n",
    "    plt.show()\n",
    "\n",
    "    return"
   ]
  },
  {
   "cell_type": "markdown",
   "id": "a4ade367-f2b3-408c-81b7-794a03146e57",
   "metadata": {},
   "source": [
    "## Evaluation on Test Data"
   ]
  },
  {
   "cell_type": "code",
   "execution_count": 48,
   "id": "13daec60-a510-493f-807e-0e20a1556a19",
   "metadata": {
    "execution": {
     "iopub.execute_input": "2023-05-21T07:54:33.482978Z",
     "iopub.status.busy": "2023-05-21T07:54:33.481978Z",
     "iopub.status.idle": "2023-05-21T07:54:33.495976Z",
     "shell.execute_reply": "2023-05-21T07:54:33.494977Z",
     "shell.execute_reply.started": "2023-05-21T07:54:33.482978Z"
    },
    "tags": []
   },
   "outputs": [],
   "source": [
    "# Evaluating model on test data\n",
    "\n",
    "def evaluate(X_test, y_test, all_tags):\n",
    "    \n",
    "    model = load_model(\"checkpoints/BiLSTM_NER.h5\")\n",
    "    \n",
    "    test_evaluation = model.evaluate(X_test, y_test)\n",
    "\n",
    "    print(\"\\nTest loss     : {:5.4f}\".format(test_evaluation[0]))\n",
    "    print(\"Test accuracy : {:5.2f}%\".format(100 * test_evaluation[1]))\n",
    "    \n",
    "    return"
   ]
  },
  {
   "cell_type": "markdown",
   "id": "6f7817d2-eeb3-49bf-8c4e-9b001cb73ec3",
   "metadata": {},
   "source": [
    "## Main Function "
   ]
  },
  {
   "cell_type": "code",
   "execution_count": null,
   "id": "04bc049d-0613-4ebd-8a3a-723d990f6009",
   "metadata": {
    "tags": []
   },
   "outputs": [],
   "source": [
    "def main():\n",
    "    \n",
    "    print(\"\\n       A Bidirectional LSTM for Named Entity Recognition       \\n\")\n",
    "\n",
    "\n",
    "    # Loading dataset\n",
    "\n",
    "    all_words, all_tags, X_train, X_valid, X_test, y_train, y_valid, y_test, NUM_WORDS, MAX_LEN, NUM_TAGS = load_dataset()\n",
    "\n",
    "\n",
    "\n",
    "    # Prompting hyperparameters\n",
    "\n",
    "    print(\"\\nHyperparameters\\n\")\n",
    "    epochs = int(input(\"Enter number of epochs :\"))\n",
    "    batch_size = int(input(\"Enter batch size       :\"))\n",
    "    learning_rate = float(input(\"Enter learning rate    :\"))\n",
    "    weight_decay = float(input(\"Enter weight decay     :\"))\n",
    "    dropout_rate = float(input(\"Enter dropout rate     :\"))\n",
    "\n",
    "    # Creating model object\n",
    "    model = bi_lstm(NUM_WORDS, MAX_LEN, NUM_TAGS, learning_rate, weight_decay, dropout_rate)\n",
    "\n",
    "    # Creaing checkpoint callback to save trained epochs\n",
    "    checkpoint = ModelCheckpoint('checkpoints/BiLSTM_NER.h5', monitor='val_loss', verbose=1, save_best_only=True, mode='min')\n",
    "\n",
    "\n",
    "\n",
    "    print(\"\\n\\n******* Training started *******\\n\")\n",
    "\n",
    "    start_time = time.time()\n",
    "\n",
    "    history = model.fit(X_train, \n",
    "                     y_train, \n",
    "                     epochs=epochs, \n",
    "                     batch_size=batch_size, \n",
    "                     validation_data=(X_valid, y_valid),\n",
    "                     callbacks=[checkpoint],\n",
    "                     verbose=1\n",
    "                    )\n",
    "\n",
    "    end_time = time.time()\n",
    "    minutes, seconds = divmod(end_time - start_time, 60)\n",
    "    print(f\"\\nINFO: Training completed in {round(minutes)} mins {round(seconds)} secs.\")\n",
    "\n",
    "    print(\"\\n******* Training finished *******\")\n",
    "\n",
    "\n",
    "\n",
    "    # Printing loss and accuracy\n",
    "\n",
    "    # Saving model history object\n",
    "    with open('checkpoints/history.pkl', 'wb') as f:\n",
    "        pickle.dump(history.history, f)\n",
    "\n",
    "    # Loading history object from the file\n",
    "    with open('checkpoints/history.pkl', 'rb') as f:\n",
    "        history = pickle.load(f)\n",
    "\n",
    "    plot_acc_loss(history)\n",
    "\n",
    "\n",
    "\n",
    "    # Evaluating the model on test data\n",
    "\n",
    "    print(\"\\n******* Evaluation started *******\\n\")\n",
    "\n",
    "    evaluate(X_test, y_test, all_tags)\n",
    "\n",
    "    print(\"\\n******* Evaluation finished *******\")\n",
    "    \n",
    "    \n",
    "    return"
   ]
  },
  {
   "cell_type": "code",
   "execution_count": 63,
   "id": "370dfe0b-26c6-4f28-a687-b10aa2915972",
   "metadata": {
    "execution": {
     "iopub.execute_input": "2023-05-21T08:08:05.530777Z",
     "iopub.status.busy": "2023-05-21T08:08:05.529777Z",
     "iopub.status.idle": "2023-05-21T08:08:15.055774Z",
     "shell.execute_reply": "2023-05-21T08:08:15.054773Z",
     "shell.execute_reply.started": "2023-05-21T08:08:05.530777Z"
    },
    "tags": []
   },
   "outputs": [],
   "source": [
    "results = model.evaluate(X_test, y_test, verbose=0)"
   ]
  },
  {
   "cell_type": "markdown",
   "id": "7f39ad56-cefc-4d7e-9569-332cdca46162",
   "metadata": {},
   "source": [
    "## Execution"
   ]
  },
  {
   "cell_type": "code",
   "execution_count": 11,
   "id": "a8ce9ecb-7fbf-4e41-898a-61e89266989c",
   "metadata": {
    "execution": {
     "iopub.execute_input": "2023-05-20T11:27:57.613061Z",
     "iopub.status.busy": "2023-05-20T11:27:57.613061Z",
     "iopub.status.idle": "2023-05-20T11:48:21.149683Z",
     "shell.execute_reply": "2023-05-20T11:48:21.148687Z",
     "shell.execute_reply.started": "2023-05-20T11:27:57.613061Z"
    },
    "tags": []
   },
   "outputs": [
    {
     "name": "stdout",
     "output_type": "stream",
     "text": [
      "\n",
      "       A Bidirectional LSTM for Named Entity Recognition       \n",
      "\n",
      "\n",
      "Corpus\n",
      "\n",
      "Training set size      : (14041, 124)\n",
      "Validation set size    : (3250, 124)\n",
      "Test set size          : (3453, 124)\n",
      "\n",
      "Number of unique words : 30291\n",
      "Max length of input    : 124\n",
      "Number of tags         : 9\n",
      "\n",
      "Hyperparameters\n",
      "\n"
     ]
    },
    {
     "name": "stdin",
     "output_type": "stream",
     "text": [
      "Enter number of epochs : 6\n",
      "Enter batch size       : 128\n",
      "Enter learning rate    : 0.001\n",
      "Enter weight decay     : 0.004\n",
      "Enter dropout rate     : 0.5\n"
     ]
    },
    {
     "name": "stdout",
     "output_type": "stream",
     "text": [
      "\n",
      "\n",
      "The architecture of the network\n",
      "\n",
      "Model: \"sequential_1\"\n",
      "_________________________________________________________________\n",
      " Layer (type)                Output Shape              Param #   \n",
      "=================================================================\n",
      " embedding_1 (Embedding)     (None, 124, 124)          3756084   \n",
      "                                                                 \n",
      " batch_normalization_1 (Batc  (None, 124, 124)         496       \n",
      " hNormalization)                                                 \n",
      "                                                                 \n",
      " dropout_1 (Dropout)         (None, 124, 124)          0         \n",
      "                                                                 \n",
      " bidirectional_1 (Bidirectio  (None, 124, 248)         247008    \n",
      " nal)                                                            \n",
      "                                                                 \n",
      " time_distributed_1 (TimeDis  (None, 124, 9)           2241      \n",
      " tributed)                                                       \n",
      "                                                                 \n",
      " activation_1 (Activation)   (None, 124, 9)            0         \n",
      "                                                                 \n",
      "=================================================================\n",
      "Total params: 4,005,829\n",
      "Trainable params: 4,005,581\n",
      "Non-trainable params: 248\n",
      "_________________________________________________________________\n",
      "\n",
      "\n",
      "******* Training started *******\n",
      "\n",
      "Epoch 1/6\n",
      "110/110 [==============================] - ETA: 0s - loss: 0.1356 - accuracy: 0.9779\n",
      "Epoch 1: val_loss improved from inf to 0.52650, saving model to checkpoints\\BiLSTM_NER.h5\n",
      "110/110 [==============================] - 188s 2s/step - loss: 0.1356 - accuracy: 0.9779 - val_loss: 0.5265 - val_accuracy: 0.8726\n",
      "Epoch 2/6\n",
      "110/110 [==============================] - ETA: 0s - loss: 0.0285 - accuracy: 0.9916\n",
      "Epoch 2: val_loss improved from 0.52650 to 0.34171, saving model to checkpoints\\BiLSTM_NER.h5\n",
      "110/110 [==============================] - 203s 2s/step - loss: 0.0285 - accuracy: 0.9916 - val_loss: 0.3417 - val_accuracy: 0.8728\n",
      "Epoch 3/6\n",
      "110/110 [==============================] - ETA: 0s - loss: 0.0145 - accuracy: 0.9961\n",
      "Epoch 3: val_loss improved from 0.34171 to 0.13804, saving model to checkpoints\\BiLSTM_NER.h5\n",
      "110/110 [==============================] - 205s 2s/step - loss: 0.0145 - accuracy: 0.9961 - val_loss: 0.1380 - val_accuracy: 0.9569\n",
      "Epoch 4/6\n",
      "110/110 [==============================] - ETA: 0s - loss: 0.0095 - accuracy: 0.9975\n",
      "Epoch 4: val_loss improved from 0.13804 to 0.04628, saving model to checkpoints\\BiLSTM_NER.h5\n",
      "110/110 [==============================] - 190s 2s/step - loss: 0.0095 - accuracy: 0.9975 - val_loss: 0.0463 - val_accuracy: 0.9894\n",
      "Epoch 5/6\n",
      "110/110 [==============================] - ETA: 0s - loss: 0.0071 - accuracy: 0.9981\n",
      "Epoch 5: val_loss improved from 0.04628 to 0.02066, saving model to checkpoints\\BiLSTM_NER.h5\n",
      "110/110 [==============================] - 205s 2s/step - loss: 0.0071 - accuracy: 0.9981 - val_loss: 0.0207 - val_accuracy: 0.9940\n",
      "Epoch 6/6\n",
      "110/110 [==============================] - ETA: 0s - loss: 0.0058 - accuracy: 0.9985\n",
      "Epoch 6: val_loss improved from 0.02066 to 0.01744, saving model to checkpoints\\BiLSTM_NER.h5\n",
      "110/110 [==============================] - 182s 2s/step - loss: 0.0058 - accuracy: 0.9985 - val_loss: 0.0174 - val_accuracy: 0.9949\n",
      "\n",
      "INFO: Training completed in 19 mins 34 secs.\n",
      "\n",
      "******* Training finished *******\n"
     ]
    },
    {
     "data": {
      "image/png": "[encoded data removed]",
      "text/plain": [
       "<Figure size 640x480 with 1 Axes>"
      ]
     },
     "metadata": {},
     "output_type": "display_data"
    },
    {
     "data": {
      "image/png": "[encoded data removed]",
      "text/plain": [
       "<Figure size 640x480 with 1 Axes>"
      ]
     },
     "metadata": {},
     "output_type": "display_data"
    },
    {
     "name": "stdout",
     "output_type": "stream",
     "text": [
      "\n",
      "******* Evaluation started *******\n",
      "\n",
      "108/108 [==============================] - 26s 234ms/step - loss: 0.0220 - accuracy: 0.9933\n",
      "\n",
      "Test loss     : 0.0220\n",
      "Test accuracy : 99.33%\n",
      "\n",
      "******* Evaluation finished *******\n",
      "\n",
      "\n",
      "INFO: Whole program executed for 20 mins 24 secs.\n"
     ]
    }
   ],
   "source": [
    "if __name__ == \"__main__\":\n",
    "    \n",
    "    start_time = time.time()\n",
    "    \n",
    "    main()\n",
    "    \n",
    "    end_time = time.time()\n",
    "\n",
    "    minutes, seconds = divmod(end_time - start_time, 60)\n",
    "    print(\"\\n\\nINFO: Whole program executed for\", round(minutes), \"mins\", round(seconds), \"secs.\")"
   ]
  }
 ],
 "metadata": {
  "kernelspec": {
   "display_name": "Python 3 (ipykernel)",
   "language": "python",
   "name": "python3"
  },
  "language_info": {
   "codemirror_mode": {
    "name": "ipython",
    "version": 3
   },
   "file_extension": ".py",
   "mimetype": "text/x-python",
   "name": "python",
   "nbconvert_exporter": "python",
   "pygments_lexer": "ipython3",
   "version": "3.9.16"
  }
 },
 "nbformat": 4,
 "nbformat_minor": 5
}
